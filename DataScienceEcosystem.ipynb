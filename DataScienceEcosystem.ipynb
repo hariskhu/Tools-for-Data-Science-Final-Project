{
 "cells": [
  {
   "cell_type": "markdown",
   "id": "19f83e83-fade-480f-916e-fca45de02fa4",
   "metadata": {},
   "source": [
    "# Data Science Tools and Ecosystem"
   ]
  },
  {
   "cell_type": "markdown",
   "id": "cd8e8378-cc5b-4298-a109-896ca81dfa39",
   "metadata": {},
   "source": [
    "## Author\n",
    "Haris Khugyani"
   ]
  },
  {
   "cell_type": "markdown",
   "id": "ad75b866-ecb7-409e-bee9-481166c2df0c",
   "metadata": {},
   "source": [
    "In this notebook, Data Science Tools and Ecosystem are summarized."
   ]
  },
  {
   "cell_type": "markdown",
   "id": "4c79406d-ce09-426a-899a-8803e4edffe1",
   "metadata": {},
   "source": [
    "**Objectives:**\n",
    "- List popular languages for Data Science.\n",
    "- List libraries commonly used for Data Science.\n",
    "- List open source Data Science tools."
   ]
  },
  {
   "cell_type": "markdown",
   "id": "5ad64bc7-570e-48c7-9d94-a8c14055930d",
   "metadata": {},
   "source": [
    "Some of the popular languages that Data Scientists use are:\n",
    "- R\n",
    "- Python\n",
    "- SQL"
   ]
  },
  {
   "cell_type": "markdown",
   "id": "38bcbc22-48f2-436e-8b19-d96aedb0c047",
   "metadata": {},
   "source": [
    "Some of the commonly used libraries used by Data Scientists include:\n",
    "1. pandas\n",
    "2. scikit-learn\n",
    "3. matplotlib"
   ]
  },
  {
   "cell_type": "markdown",
   "id": "d317029e-8e1f-4747-8231-2b4769c48150",
   "metadata": {},
   "source": [
    "| Data Science Tools |\n",
    "|--------------------|\n",
    "|  VS Code  |\n",
    "| Jupyer Lab | \n",
    "| RStudio |"
   ]
  },
  {
   "cell_type": "markdown",
   "id": "d27ffce8-232c-4bf0-ad72-6a77f0e03817",
   "metadata": {},
   "source": [
    "### Below are a few examples of evaluating arithmetic expressions in Python."
   ]
  },
  {
   "cell_type": "code",
   "execution_count": 4,
   "id": "d35c0e27-c052-4493-af6f-248d58316a40",
   "metadata": {},
   "outputs": [
    {
     "data": {
      "text/plain": [
       "17"
      ]
     },
     "execution_count": 4,
     "metadata": {},
     "output_type": "execute_result"
    }
   ],
   "source": [
    "# This a simple arithmetic expression to mutiply then add integers\n",
    "(3*4)+5"
   ]
  },
  {
   "cell_type": "code",
   "execution_count": 5,
   "id": "8b0ea901-1508-409e-9f22-5b93f7882777",
   "metadata": {},
   "outputs": [
    {
     "data": {
      "text/plain": [
       "3.3333333333333335"
      ]
     },
     "execution_count": 5,
     "metadata": {},
     "output_type": "execute_result"
    }
   ],
   "source": [
    "# This will convert 200 minutes to hours by diving by 60\n",
    "200/60"
   ]
  }
 ],
 "metadata": {
  "kernelspec": {
   "display_name": "Python 3 (ipykernel)",
   "language": "python",
   "name": "python3"
  },
  "language_info": {
   "codemirror_mode": {
    "name": "ipython",
    "version": 3
   },
   "file_extension": ".py",
   "mimetype": "text/x-python",
   "name": "python",
   "nbconvert_exporter": "python",
   "pygments_lexer": "ipython3",
   "version": "3.12.8"
  }
 },
 "nbformat": 4,
 "nbformat_minor": 5
}
